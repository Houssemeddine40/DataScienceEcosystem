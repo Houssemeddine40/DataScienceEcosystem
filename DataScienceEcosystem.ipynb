{
 "cells": [
  {
   "cell_type": "markdown",
   "id": "9bd368dc-35e7-4d9c-b81f-f7ea7fb485c9",
   "metadata": {},
   "source": [
    "# Data Science Tools and Ecosystem"
   ]
  },
  {
   "cell_type": "markdown",
   "id": "38bee71e-36d8-4f79-a49e-ca5a2c8ca17a",
   "metadata": {},
   "source": [
    "In this notebook, Data Science Tools and Ecosystem are summarized."
   ]
  },
  {
   "cell_type": "markdown",
   "id": "416b2a18-bc63-447e-91db-c6dfe5c29ae9",
   "metadata": {},
   "source": [
    "**Some of the popular languages that Data Scientists use are:**\n",
    "1. python\n",
    "2. SQL\n",
    "3. R"
   ]
  },
  {
   "cell_type": "markdown",
   "id": "7d895e67-d528-49d2-93a7-ba0f283af833",
   "metadata": {},
   "source": [
    "**Some of the commonly used libraries used by Data Scientists include:**\n",
    " \n",
    " 1. SciPy.  \n",
    " 2. TensorFlow.\n",
    " 3. NumPy. \n",
    " 4. Pytorch. \n",
    " 5. Pandas."
   ]
  },
  {
   "cell_type": "markdown",
   "id": "cc2fed03-140a-4b91-a556-7e1d312bccdb",
   "metadata": {
    "tags": []
   },
   "source": [
    "**Data Science Tools**\n",
    "|Data Science Tools|\n",
    "|-|\n",
    "|Jupyter Notebook|\n",
    "|RStudio|\n",
    "|Apache Spark|\n"
   ]
  },
  {
   "cell_type": "markdown",
   "id": "ba278b33-988f-4d09-8e3d-c2e8dfa190e6",
   "metadata": {},
   "source": [
    "### Below are a few examples of evaluating arithmetic expressions in Python.\n",
    "\n"
   ]
  },
  {
   "cell_type": "code",
   "execution_count": 3,
   "id": "11913ae3-bedd-446d-8ab9-600ae632b6c1",
   "metadata": {
    "tags": []
   },
   "outputs": [
    {
     "name": "stdout",
     "output_type": "stream",
     "text": [
      "17\n",
      "True\n"
     ]
    }
   ],
   "source": [
    "# This a simple arithmetic expression to mutiply then add integers\n",
    "x = (3*4)+5\n",
    "print(x)\n",
    "print(x==17)"
   ]
  },
  {
   "cell_type": "code",
   "execution_count": 4,
   "id": "bb1fbd64-42a1-4e03-9f75-704a2ed505b2",
   "metadata": {
    "tags": []
   },
   "outputs": [
    {
     "name": "stdout",
     "output_type": "stream",
     "text": [
      "33.333333333333336\n"
     ]
    }
   ],
   "source": [
    "# This will convert 200 minutes to hours by diving by 60\n",
    "print(200/6)"
   ]
  },
  {
   "cell_type": "markdown",
   "id": "7eae5b1c-cc74-475f-8c7b-8700c0f89970",
   "metadata": {},
   "source": [
    "**Objectives:**\n",
    "List popular languages for Data Science.\n",
    "- Python \n",
    "- SQL\n",
    "- R"
   ]
  },
  {
   "cell_type": "markdown",
   "id": "50db211a-c2ec-4293-a068-8d334369c287",
   "metadata": {},
   "source": [
    "## Author \n",
    "Houssemeddine Mars\n"
   ]
  },
  {
   "cell_type": "code",
   "execution_count": null,
   "id": "495ece29-9e7f-43b9-ae34-2642e41e6844",
   "metadata": {},
   "outputs": [],
   "source": []
  }
 ],
 "metadata": {
  "kernelspec": {
   "display_name": "Python 3 (ipykernel)",
   "language": "python",
   "name": "python3"
  },
  "language_info": {
   "codemirror_mode": {
    "name": "ipython",
    "version": 3
   },
   "file_extension": ".py",
   "mimetype": "text/x-python",
   "name": "python",
   "nbconvert_exporter": "python",
   "pygments_lexer": "ipython3",
   "version": "3.11.4"
  }
 },
 "nbformat": 4,
 "nbformat_minor": 5
}
